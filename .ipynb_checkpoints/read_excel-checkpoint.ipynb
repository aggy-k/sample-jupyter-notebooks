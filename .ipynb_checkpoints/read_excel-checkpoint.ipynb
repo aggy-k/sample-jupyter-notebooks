{
 "cells": [
  {
   "cell_type": "code",
   "execution_count": 1,
   "metadata": {},
   "outputs": [
    {
     "data": {
      "text/html": [
       "<div>\n",
       "<style scoped>\n",
       "    .dataframe tbody tr th:only-of-type {\n",
       "        vertical-align: middle;\n",
       "    }\n",
       "\n",
       "    .dataframe tbody tr th {\n",
       "        vertical-align: top;\n",
       "    }\n",
       "\n",
       "    .dataframe thead th {\n",
       "        text-align: right;\n",
       "    }\n",
       "</style>\n",
       "<table border=\"1\" class=\"dataframe\">\n",
       "  <thead>\n",
       "    <tr style=\"text-align: right;\">\n",
       "      <th></th>\n",
       "      <th>Unnamed: 0</th>\n",
       "      <th>Nickname</th>\n",
       "      <th>Phone Number</th>\n",
       "      <th>Order Number</th>\n",
       "      <th>Amount</th>\n",
       "      <th>Discount Amount</th>\n",
       "      <th>Total Amount</th>\n",
       "      <th>Paid?</th>\n",
       "      <th>Payment Method</th>\n",
       "      <th>Item</th>\n",
       "      <th>Discount Code</th>\n",
       "      <th>JB Vendor</th>\n",
       "      <th>Vendor Address</th>\n",
       "      <th>Vendor District</th>\n",
       "    </tr>\n",
       "  </thead>\n",
       "  <tbody>\n",
       "    <tr>\n",
       "      <td>0</td>\n",
       "      <td>1</td>\n",
       "      <td>NaN</td>\n",
       "      <td>NaN</td>\n",
       "      <td>JUST_20210325_42C93077BFE1</td>\n",
       "      <td>22</td>\n",
       "      <td>22</td>\n",
       "      <td>0</td>\n",
       "      <td>True</td>\n",
       "      <td>Referral</td>\n",
       "      <td>jianbing</td>\n",
       "      <td>JUST_B81SSZHW</td>\n",
       "      <td>Wuding &amp; Changde Jianbing</td>\n",
       "      <td>Wuding Lu 1103, Shanghai</td>\n",
       "      <td>Jingan</td>\n",
       "    </tr>\n",
       "    <tr>\n",
       "      <td>1</td>\n",
       "      <td>2</td>\n",
       "      <td>Aggy</td>\n",
       "      <td>1.862187e+10</td>\n",
       "      <td>JUST_20210325_1D28FC1F2D56</td>\n",
       "      <td>25</td>\n",
       "      <td>0</td>\n",
       "      <td>25</td>\n",
       "      <td>True</td>\n",
       "      <td>WeChat Pay</td>\n",
       "      <td>jianbing</td>\n",
       "      <td>NaN</td>\n",
       "      <td>Wuding &amp; Changde Jianbing</td>\n",
       "      <td>Wuding Lu 1103, Shanghai</td>\n",
       "      <td>Jingan</td>\n",
       "    </tr>\n",
       "  </tbody>\n",
       "</table>\n",
       "</div>"
      ],
      "text/plain": [
       "   Unnamed: 0 Nickname  Phone Number                Order Number  Amount  \\\n",
       "0           1      NaN           NaN  JUST_20210325_42C93077BFE1      22   \n",
       "1           2     Aggy  1.862187e+10  JUST_20210325_1D28FC1F2D56      25   \n",
       "\n",
       "   Discount Amount  Total Amount  Paid? Payment Method      Item  \\\n",
       "0               22             0   True       Referral  jianbing   \n",
       "1                0            25   True     WeChat Pay  jianbing   \n",
       "\n",
       "   Discount Code                  JB Vendor            Vendor Address  \\\n",
       "0  JUST_B81SSZHW  Wuding & Changde Jianbing  Wuding Lu 1103, Shanghai   \n",
       "1            NaN  Wuding & Changde Jianbing  Wuding Lu 1103, Shanghai   \n",
       "\n",
       "  Vendor District  \n",
       "0          Jingan  \n",
       "1          Jingan  "
      ]
     },
     "execution_count": 1,
     "metadata": {},
     "output_type": "execute_result"
    }
   ],
   "source": [
    "import pandas as pd\n",
    "df = pd.read_excel('data/jb_orders.xlsx')\n",
    "df"
   ]
  },
  {
   "cell_type": "code",
   "execution_count": 2,
   "metadata": {},
   "outputs": [
    {
     "data": {
      "text/plain": [
       "Unnamed: 0           int64\n",
       "Nickname            object\n",
       "Phone Number       float64\n",
       "Order Number        object\n",
       "Amount               int64\n",
       "Discount Amount      int64\n",
       "Total Amount         int64\n",
       "Paid?                 bool\n",
       "Payment Method      object\n",
       "Item                object\n",
       "Discount Code       object\n",
       "JB Vendor           object\n",
       "Vendor Address      object\n",
       "Vendor District     object\n",
       "dtype: object"
      ]
     },
     "execution_count": 2,
     "metadata": {},
     "output_type": "execute_result"
    }
   ],
   "source": [
    "df.dtypes"
   ]
  },
  {
   "cell_type": "code",
   "execution_count": null,
   "metadata": {},
   "outputs": [],
   "source": []
  }
 ],
 "metadata": {
  "kernelspec": {
   "display_name": "Python 3",
   "language": "python",
   "name": "python3"
  },
  "language_info": {
   "codemirror_mode": {
    "name": "ipython",
    "version": 3
   },
   "file_extension": ".py",
   "mimetype": "text/x-python",
   "name": "python",
   "nbconvert_exporter": "python",
   "pygments_lexer": "ipython3",
   "version": "3.7.4"
  }
 },
 "nbformat": 4,
 "nbformat_minor": 2
}
